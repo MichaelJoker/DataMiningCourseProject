{
 "cells": [
  {
   "cell_type": "code",
   "execution_count": 1,
   "metadata": {},
   "outputs": [],
   "source": [
    "import pandas as pd\n",
    "import numpy as np\n",
    "import nltk\n",
    "import matplotlib.pyplot as plt"
   ]
  },
  {
   "cell_type": "code",
   "execution_count": 4,
   "metadata": {},
   "outputs": [],
   "source": [
    "df = pd.read_csv('bbc.csv')"
   ]
  },
  {
   "cell_type": "code",
   "execution_count": 6,
   "metadata": {},
   "outputs": [],
   "source": [
    "# construct the Word of Bag model\n",
    "from sklearn.feature_extraction.text import CountVectorizer\n",
    "vectorizer = CountVectorizer() \n",
    "X = vectorizer.fit_transform(df['text'])\n",
    "word = vectorizer.get_feature_names()\n",
    "word_bag = X.toarray()"
   ]
  },
  {
   "cell_type": "code",
   "execution_count": 10,
   "metadata": {},
   "outputs": [
    {
     "data": {
      "text/plain": [
       "31352"
      ]
     },
     "execution_count": 10,
     "metadata": {},
     "output_type": "execute_result"
    }
   ],
   "source": [
    "len(word)"
   ]
  },
  {
   "cell_type": "code",
   "execution_count": 11,
   "metadata": {},
   "outputs": [
    {
     "data": {
      "text/plain": [
       "2225"
      ]
     },
     "execution_count": 11,
     "metadata": {},
     "output_type": "execute_result"
    }
   ],
   "source": [
    "len(word_bag)"
   ]
  },
  {
   "cell_type": "markdown",
   "metadata": {},
   "source": [
    "calculate the cosine similarity"
   ]
  },
  {
   "cell_type": "code",
   "execution_count": 12,
   "metadata": {},
   "outputs": [],
   "source": [
    "def cos_sim(A, B):\n",
    "    numerator = float(np.dot(np.mat(A), np.mat(B).T)) \n",
    "    denominator = np.linalg.norm(A) * np.linalg.norm(B) \n",
    "    if denominator  == 0:\n",
    "        denominator  = 1\n",
    "    cosn = numerator / denominator\n",
    "    sim = 0.5 + 0.5 * cosn  # normalization to [0,1]\n",
    "    sim = 1 - sim  # The smaller the value, the closer the distance\n",
    "    return sim"
   ]
  },
  {
   "cell_type": "markdown",
   "metadata": {},
   "source": [
    "work flow: \n",
    "\n",
    "（1）Randomly determine k initial points as the center of mass.\n",
    "\n",
    "（2）Find the nearest center of mass for each point in the data set and assign it to the cluster corresponding to the center of mass\n",
    "\n",
    "（3）Update the center of mass of each cluster to the average of all points in the cluster.\n",
    "\n",
    "（4）Repeat steps (2) and (3) until the distribution result of the cluster does not change."
   ]
  },
  {
   "cell_type": "code",
   "execution_count": 115,
   "metadata": {},
   "outputs": [],
   "source": [
    "# based on the machine, we can determine to extract the number of points, in our example the number is 1000\n",
    "import random\n",
    "word_bag_temp = pd.DataFrame(word_bag)\n",
    "randomlist = random.sample(range(0,word_bag.shape[0]),1000)\n",
    "list = []\n",
    "for i in randomlist:\n",
    "    list.append(word_bag_temp.iloc[i])\n",
    "test = pd.DataFrame(list).reset_index(drop = True)"
   ]
  },
  {
   "cell_type": "code",
   "execution_count": 45,
   "metadata": {},
   "outputs": [],
   "source": [
    "#reduce the features to 100 in order accelerate the speed\n",
    "from sklearn.decomposition import PCA\n",
    "pca = PCA(n_components=100, random_state=0)\n",
    "test = pca.fit_transform(test)"
   ]
  },
  {
   "cell_type": "code",
   "execution_count": 12,
   "metadata": {},
   "outputs": [],
   "source": [
    "# Construct a random set of k centers of mass\n",
    "def randCent(k):\n",
    "    import random\n",
    "    cent = []\n",
    "    randomlist = random.sample(range(0,test.shape[0]),5)\n",
    "    a = test.tolist()\n",
    "    for i in randomlist:\n",
    "        cent.append(a[i])\n",
    "    return cent"
   ]
  },
  {
   "cell_type": "code",
   "execution_count": 58,
   "metadata": {},
   "outputs": [],
   "source": [
    "def kMeans(k, distMeas = cos_sim, createCent= randCent):\n",
    "    from math import inf\n",
    "    m = test.shape[0]  # total number of vectors\n",
    "    \n",
    "    # The first column is the index of the center of mass, and the second column is the cosine similarity\n",
    "    clusterAssment = np.mat(np.zeros((m, 2)))  \n",
    "    centroids = createCent(k)  # Construct a random set of k centers of mass\n",
    "    b = test.tolist() # Turn word_bag into list\n",
    "    i = 0;\n",
    "    while i<50:\n",
    "        clusterChanged = False\n",
    "        for i in range(m):  # Each point given in the total data\n",
    "            minDist = inf  # INFINITE\n",
    "            minIndex = -1\n",
    "            for j in range(k):  # each center\n",
    "                distJI = distMeas(centroids[j], b[i])  # calculate the cosine similarity\n",
    "                if distJI < minDist:   \n",
    "                    minDist = distJI\n",
    "                    minIndex = j # record the corresponding point\n",
    "            if clusterAssment[i, 0] != minIndex:\n",
    "                clusterAssment[i,:] = minIndex, minDist \n",
    "            \n",
    "        # print centroids\n",
    "        for cent in range(k):\n",
    "            ptsInClust = test[np.nonzero(clusterAssment[:,0].A == cent)[0]]\n",
    "            centroids[cent] = np.mean(ptsInClust, axis=0)\n",
    "    i = i+1\n",
    "    return centroids, clusterAssment"
   ]
  },
  {
   "cell_type": "code",
   "execution_count": 59,
   "metadata": {},
   "outputs": [],
   "source": [
    "centers,cluster = kMeans(5)"
   ]
  },
  {
   "cell_type": "code",
   "execution_count": 60,
   "metadata": {},
   "outputs": [],
   "source": [
    "#reduce the features to 2D\n",
    "from sklearn.decomposition import PCA\n",
    "pca = PCA(n_components=2, random_state=0)\n",
    "reduced_features = pca.fit_transform(test)\n",
    "\n",
    "# reduce the cluster centers to 2D\n",
    "reduced_cluster_centers = pca.transform(centers)"
   ]
  }
 ],
 "metadata": {
  "kernelspec": {
   "display_name": "Python 3",
   "language": "python",
   "name": "python3"
  },
  "language_info": {
   "codemirror_mode": {
    "name": "ipython",
    "version": 3
   },
   "file_extension": ".py",
   "mimetype": "text/x-python",
   "name": "python",
   "nbconvert_exporter": "python",
   "pygments_lexer": "ipython3",
   "version": "3.7.1"
  }
 },
 "nbformat": 4,
 "nbformat_minor": 2
}
